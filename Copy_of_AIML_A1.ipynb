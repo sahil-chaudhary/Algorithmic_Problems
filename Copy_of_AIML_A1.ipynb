{
  "nbformat": 4,
  "nbformat_minor": 0,
  "metadata": {
    "colab": {
      "provenance": [],
      "include_colab_link": true
    },
    "kernelspec": {
      "name": "python3",
      "display_name": "Python 3"
    },
    "language_info": {
      "name": "python"
    }
  },
  "cells": [
    {
      "cell_type": "markdown",
      "metadata": {
        "id": "view-in-github",
        "colab_type": "text"
      },
      "source": [
        "<a href=\"https://colab.research.google.com/github/sahil-chaudhary/Algorithmic_Problems/blob/main/Copy_of_AIML_A1.ipynb\" target=\"_parent\"><img src=\"https://colab.research.google.com/assets/colab-badge.svg\" alt=\"Open In Colab\"/></a>"
      ]
    },
    {
      "cell_type": "markdown",
      "source": [
        "# UMC 203: Artificial Intelligence and Machine Learning\n",
        "# Assignment 1\n",
        "\n"
      ],
      "metadata": {
        "id": "80NpGFmiKdui"
      }
    },
    {
      "cell_type": "markdown",
      "source": [
        "## Setup"
      ],
      "metadata": {
        "id": "_HqFH4UkOAU8"
      }
    },
    {
      "cell_type": "markdown",
      "source": [
        "Please run the code below *after modifying it* appropriately every time you connect to an environment."
      ],
      "metadata": {
        "id": "0MvfJ4Y1Nsa-"
      }
    },
    {
      "cell_type": "code",
      "execution_count": null,
      "metadata": {
        "id": "PN_ZWwiSKTom"
      },
      "outputs": [],
      "source": [
        "# 1. [TODO by yourself] Upload the zip file provided as part of the assignment onto your google drive. Do this by uploading the file to your drive.\n",
        "# 2. Connect the google drive to the colab\n",
        "from google.colab import drive\n",
        "drive.mount('/content/drive')\n",
        "# 3. copy the zip file into the current working directory\n",
        "!cp <put file path here> .\n",
        "# eg. !cp /content/drive/MyDrive/AIML_A1.zip .\n",
        "# extract the zip file\n",
        "!unzip AIML_A1.zip\n",
        "# eg. !unzip A1.zip"
      ]
    },
    {
      "cell_type": "code",
      "source": [
        "import oracle as AIML_A1"
      ],
      "metadata": {
        "id": "0p4LGvmqO721"
      },
      "execution_count": null,
      "outputs": []
    },
    {
      "cell_type": "markdown",
      "source": [
        "## Question 1: Naive Bayes"
      ],
      "metadata": {
        "id": "99ikdazdOCOC"
      }
    },
    {
      "cell_type": "code",
      "source": [
        "# Instructions and calling conventions for the different functions\n",
        "\n",
        "# PLEASE PROVIDE YOUR OWN SR NUMBERS TO ALL FUNCTIONS\n",
        "mysrn = 12345\n",
        "\n",
        "# q1_get_loss provides l(0,1) and l(1,0) in the setting discussed in the assignment\n",
        "help(AIML_A1.q1_get_loss)\n",
        "# eg:\n",
        "l1, l2 = AIML_A1.q1_get_loss(mysrn)\n",
        "print(f\"l(0,1)={l1}, l(1,0)={l2}\")\n",
        "\n",
        "# q1_get_train_set returns a training set wih the number of required samples\n",
        "help(AIML_A1.q1_get_train_set)\n",
        "q1_train_data_5 = AIML_A1.q1_get_train_set(mysrn,5)\n",
        "print(q1_train_data_5)\n",
        "\n",
        "# q1_get_test_set returns the test set\n",
        "help(AIML_A1.q1_get_test_set)\n",
        "q1_test_data = AIML_A1.q1_get_test_set(mysrn)\n",
        "print(q1_test_data[:5])"
      ],
      "metadata": {
        "id": "TQptpK8iO3B4",
        "colab": {
          "base_uri": "https://localhost:8080/"
        },
        "outputId": "bb3e1101-d7ce-48dd-e0d9-f183c91333f0"
      },
      "execution_count": null,
      "outputs": [
        {
          "output_type": "stream",
          "name": "stdout",
          "text": [
            "Help on function q1_get_loss in module oracle:\n",
            "\n",
            "q1_get_loss(srn: int) -> tuple[int, int]\n",
            "    srn: 5 digit number.\n",
            "    \n",
            "    Returns a 2-tuple.\n",
            "    The first element of the tuple is l(0,1) and the second is l(1,0)\n",
            "\n",
            "l(0,1)=1, l(1,0)=2\n",
            "Help on function q1_get_train_set in module oracle:\n",
            "\n",
            "q1_get_train_set(srn: int, num_samples: int) -> list[tuple[numpy.ndarray, int]]\n",
            "    srn: 5 digit number.\n",
            "    num_samples: Number of test samples required.\n",
            "    \n",
            "    This function returns `num_samples' instances of data drawn from \n",
            "    the distribution described in the assignment.\n",
            "    \n",
            "    Returns a list whose elements are 2-tuples.\n",
            "    The first element of the tuple is x and the second is the label, (1 or 0)\n",
            "\n",
            "[(array([-1.9413 ,  1.17604,  1.63527, -0.95227,  0.36226]), 0.0), (array([-0.0693 ,  0.58058,  1.46756,  3.30519, -0.23078]), 1.0), (array([-0.51579, -0.45601, -0.80388, -2.86752, -3.71392]), 0.0), (array([ 2.59493,  1.60735,  5.66518,  4.84343, -2.55806]), 1.0), (array([-0.07521, -0.01915,  0.161  , -0.25278, -2.13508]), 1.0), (array([-2.31432, -2.15952, -0.71994, -1.52925, -4.0339 ]), 0.0), (array([ 1.79777, -2.17156,  5.66655,  2.84253,  0.78269]), 1.0), (array([ 2.02876,  0.28066, -1.62968,  0.23047, -1.07331]), 1.0), (array([-2.51163,  1.14142,  2.35451, -2.77626,  0.49103]), 0.0), (array([-2.03387, -2.6707 , -0.73716,  1.14655, -4.69734]), 0.0)]\n",
            "Help on function q1_get_test_set in module oracle:\n",
            "\n",
            "q1_get_test_set(srn: int) -> list[tuple[numpy.ndarray, int]]\n",
            "    srn: 5 digit number.\n",
            "    \n",
            "    This function returns 100 test samples drawn from \n",
            "    the distribution described in the assignment.\n",
            "    \n",
            "    YOU ARE NOT SUPPOSED TO USE THIS DATA TO COMPUTE THE CLASSIFIER.\n",
            "    ONLY REPORT THE ACCURACY ON THIS SET.\n",
            "    \n",
            "    Returns a list whose elements are 2-tuples.\n",
            "    The first element of the tuple is x and the second is the label, (1 or 0)\n",
            "\n",
            "[(array([ 4.26356,  0.05319, -0.74904,  1.01419,  1.54474]), 1.0), (array([-2.44158,  2.2602 , -4.33593, -0.96465,  1.32832]), 0.0), (array([ 1.29463,  1.78732, -1.38357, -1.57688,  3.60449]), 1.0), (array([-1.45192, -2.01776, -2.60844, -1.23369, -1.73872]), 0.0), (array([ 1.37953,  3.90269, -0.97923,  4.37431,  3.66937]), 1.0)]\n"
          ]
        }
      ]
    },
    {
      "cell_type": "code",
      "source": [
        "# WRITE YOUR SOLUTION IN A MODULAR FASHION IN THE BLOCKS BELOW"
      ],
      "metadata": {
        "id": "8U8Xl6imQPP1"
      },
      "execution_count": null,
      "outputs": []
    },
    {
      "cell_type": "markdown",
      "source": [
        "## CIFAR10 classification"
      ],
      "metadata": {
        "id": "eJplWm2zIbtv"
      }
    },
    {
      "cell_type": "code",
      "source": [
        "from PIL import Image\n",
        "import matplotlib.pyplot as plt\n",
        "import numpy as np\n",
        "\n",
        "help(AIML_A1.q1_get_cifar10_train_test)\n",
        "cifar10_train, cifar10_test = AIML_A1.q1_get_cifar10_train_test(mysrn)\n",
        "\n",
        "# plot an example images\n",
        "plt.imshow(Image.fromarray(cifar10_train[0][0].reshape(32,32,3).astype(np.uint8)))\n",
        "plt.show()"
      ],
      "metadata": {
        "id": "30rb3b55MiPI",
        "colab": {
          "base_uri": "https://localhost:8080/",
          "height": 537
        },
        "outputId": "7575d7ae-831b-4ee6-cf6b-e5ca5d1f4096"
      },
      "execution_count": null,
      "outputs": [
        {
          "output_type": "stream",
          "name": "stdout",
          "text": [
            "Help on function q1_get_cifar10_train_test in module oracle:\n",
            "\n",
            "q1_get_cifar10_train_test(srn: int) -> tuple[list[tuple[numpy.ndarray, int]], list[tuple[numpy.ndarray, int]]]\n",
            "\n",
            "Files already downloaded and verified\n",
            "Files already downloaded and verified\n"
          ]
        },
        {
          "output_type": "display_data",
          "data": {
            "text/plain": [
              "<Figure size 640x480 with 1 Axes>"
            ],
            "image/png": "[encoded data removed]"
          },
          "metadata": {}
        }
      ]
    },
    {
      "cell_type": "code",
      "source": [
        "# To save all the images, run the following code block\n",
        "!mkdir class0 class1\n",
        "for i,(x,y) in enumerate(cifar10_train):\n",
        "  plt.imshow(Image.fromarray(x.reshape(32,32,3).astype(np.uint8)))\n",
        "  plt.savefig(f\"class{int(y)}/{i}.jpg\")"
      ],
      "metadata": {
        "id": "QTpIiF-WXs9N"
      },
      "execution_count": null,
      "outputs": []
    },
    {
      "cell_type": "markdown",
      "source": [
        "# Question 2"
      ],
      "metadata": {
        "id": "V06P9hRLQXqA"
      }
    },
    {
      "cell_type": "code",
      "source": [
        "help(AIML_A1.q2_perceive)\n",
        "perceptron_data = AIML_A1.q2_perceive(mysrn)\n",
        "print(perceptron_data[:5])"
      ],
      "metadata": {
        "id": "VEiuhufYyIaf",
        "colab": {
          "base_uri": "https://localhost:8080/"
        },
        "outputId": "cb2a3d09-04b3-4028-d1b4-6a2ca67c4377"
      },
      "execution_count": null,
      "outputs": [
        {
          "output_type": "stream",
          "name": "stdout",
          "text": [
            "Help on function q2_perceive in module oracle:\n",
            "\n",
            "q2_perceive(srn) -> list[tuple[numpy.ndarray, int]]\n",
            "    srn: 5 digit number.\n",
            "    \n",
            "    This function returns the dataset for question 2\n",
            "    \n",
            "    Returns a list whose elements are 2-tuples.\n",
            "    The first element of the tuple is x and the second is the label, (1 or -1)\n",
            "\n",
            "[(array([-0.09454,  0.85408,  2.3362 , -2.04044,  0.64286]), 1.0), (array([-1.54786,  1.78158,  2.33551,  0.39075,  1.28523]), 1.0), (array([-0.53543,  1.06855,  0.23407, -0.26984, -0.86166]), -1.0), (array([-1.36385, -0.58071, -0.42002, -0.65567, -0.86643]), -1.0), (array([-0.90195, -0.35671, -1.31649, -0.46279,  0.829  ]), -1.0)]\n"
          ]
        }
      ]
    },
    {
      "cell_type": "markdown",
      "source": [
        "## Perceiving MNIST"
      ],
      "metadata": {
        "id": "-YYUBD86hoQZ"
      }
    },
    {
      "cell_type": "code",
      "source": [
        "help(AIML_A1.q2_mnist)\n",
        "mnist_data = AIML_A1.q2_mnist(mysrn)\n",
        "print(perceptron_data[:5])"
      ],
      "metadata": {
        "colab": {
          "base_uri": "https://localhost:8080/"
        },
        "id": "M2YCrJweht90",
        "outputId": "eebb024c-f503-4c6d-aa8c-a45d3e858043"
      },
      "execution_count": null,
      "outputs": [
        {
          "output_type": "stream",
          "name": "stdout",
          "text": [
            "Help on function q2_mnist in module oracle:\n",
            "\n",
            "q2_mnist(srn) -> list[tuple[numpy.ndarray, int]]\n",
            "    srn: 5 digit number.\n",
            "    \n",
            "    Returns a 2-tuple.\n",
            "    The first element of the tuple is l(0,1) and the second is l(1,0)\n",
            "\n",
            "Downloading http://yann.lecun.com/exdb/mnist/train-images-idx3-ubyte.gz\n",
            "Downloading http://yann.lecun.com/exdb/mnist/train-images-idx3-ubyte.gz to mnist_data/MNIST/raw/train-images-idx3-ubyte.gz\n"
          ]
        },
        {
          "output_type": "stream",
          "name": "stderr",
          "text": [
            "100%|██████████| 9912422/9912422 [00:00<00:00, 83381221.13it/s]\n"
          ]
        },
        {
          "output_type": "stream",
          "name": "stdout",
          "text": [
            "Extracting mnist_data/MNIST/raw/train-images-idx3-ubyte.gz to mnist_data/MNIST/raw\n",
            "\n",
            "Downloading http://yann.lecun.com/exdb/mnist/train-labels-idx1-ubyte.gz\n",
            "Downloading http://yann.lecun.com/exdb/mnist/train-labels-idx1-ubyte.gz to mnist_data/MNIST/raw/train-labels-idx1-ubyte.gz\n"
          ]
        },
        {
          "output_type": "stream",
          "name": "stderr",
          "text": [
            "100%|██████████| 28881/28881 [00:00<00:00, 99782284.86it/s]"
          ]
        },
        {
          "output_type": "stream",
          "name": "stdout",
          "text": [
            "Extracting mnist_data/MNIST/raw/train-labels-idx1-ubyte.gz to mnist_data/MNIST/raw\n",
            "\n",
            "Downloading http://yann.lecun.com/exdb/mnist/t10k-images-idx3-ubyte.gz\n",
            "Downloading http://yann.lecun.com/exdb/mnist/t10k-images-idx3-ubyte.gz to mnist_data/MNIST/raw/t10k-images-idx3-ubyte.gz\n"
          ]
        },
        {
          "output_type": "stream",
          "name": "stderr",
          "text": [
            "\n",
            "100%|██████████| 1648877/1648877 [00:00<00:00, 27711562.01it/s]\n"
          ]
        },
        {
          "output_type": "stream",
          "name": "stdout",
          "text": [
            "Extracting mnist_data/MNIST/raw/t10k-images-idx3-ubyte.gz to mnist_data/MNIST/raw\n",
            "\n",
            "Downloading http://yann.lecun.com/exdb/mnist/t10k-labels-idx1-ubyte.gz\n",
            "Downloading http://yann.lecun.com/exdb/mnist/t10k-labels-idx1-ubyte.gz to mnist_data/MNIST/raw/t10k-labels-idx1-ubyte.gz\n"
          ]
        },
        {
          "output_type": "stream",
          "name": "stderr",
          "text": [
            "100%|██████████| 4542/4542 [00:00<00:00, 3491665.83it/s]\n"
          ]
        },
        {
          "output_type": "stream",
          "name": "stdout",
          "text": [
            "Extracting mnist_data/MNIST/raw/t10k-labels-idx1-ubyte.gz to mnist_data/MNIST/raw\n",
            "\n",
            "[(array([-0.09454,  0.85408,  2.3362 , -2.04044,  0.64286]), 1.0), (array([-1.54786,  1.78158,  2.33551,  0.39075,  1.28523]), 1.0), (array([-0.53543,  1.06855,  0.23407, -0.26984, -0.86166]), -1.0), (array([-1.36385, -0.58071, -0.42002, -0.65567, -0.86643]), -1.0), (array([-0.90195, -0.35671, -1.31649, -0.46279,  0.829  ]), -1.0)]\n"
          ]
        }
      ]
    },
    {
      "cell_type": "code",
      "source": [
        "import matplotlib.pyplot as plt\n",
        "plt.imshow(mnist_data[0][0].reshape(28,28),cmap=plt.cm.gray_r,interpolation=\"nearest\")"
      ],
      "metadata": {
        "colab": {
          "base_uri": "https://localhost:8080/",
          "height": 448
        },
        "id": "ryJSuXhRh04H",
        "outputId": "388dc3b6-93e6-4e05-c59e-858876a05b93"
      },
      "execution_count": null,
      "outputs": [
        {
          "output_type": "execute_result",
          "data": {
            "text/plain": [
              "<matplotlib.image.AxesImage at 0x7da0bf45b940>"
            ]
          },
          "metadata": {},
          "execution_count": 11
        },
        {
          "output_type": "display_data",
          "data": {
            "text/plain": [
              "<Figure size 640x480 with 1 Axes>"
            ],
            "image/png": "[encoded data removed]"
          },
          "metadata": {}
        }
      ]
    },
    {
      "cell_type": "markdown",
      "source": [
        "#Question 3 : Fisher Linear Discriminant"
      ],
      "metadata": {
        "id": "tMK0GPCJRAv9"
      }
    },
    {
      "cell_type": "markdown",
      "source": [
        "Part A : Fisher on IRIS Dataset"
      ],
      "metadata": {
        "id": "r1fFJSOTKKyE"
      }
    },
    {
      "cell_type": "code",
      "source": [
        "#importing required libraries\n",
        "import matplotlib.pyplot as plt\n",
        "import numpy as np\n",
        "from sklearn.datasets import load_iris\n",
        "from numpy.linalg import inv"
      ],
      "metadata": {
        "id": "_o_BptuPQ0vV"
      },
      "execution_count": null,
      "outputs": []
    },
    {
      "cell_type": "code",
      "source": [
        "# Loading Iris Dataset\n",
        "iris_dataset = load_iris()\n",
        "data = iris_dataset.data\n",
        "label = iris_dataset.target"
      ],
      "metadata": {
        "id": "GMxw1mQHTv9B"
      },
      "execution_count": null,
      "outputs": []
    },
    {
      "cell_type": "code",
      "source": [
        "#Preparing train dataset for setosa and vertsicolor\n",
        "X_train = np.concatenate((data[0:50],data[100:150]),axis=0)\n",
        "print(X_train.shape)"
      ],
      "metadata": {
        "colab": {
          "base_uri": "https://localhost:8080/"
        },
        "id": "KZGWx0N8T1uG",
        "outputId": "7afc4349-a42c-4ae0-859d-dd989294bc3d"
      },
      "execution_count": null,
      "outputs": [
        {
          "output_type": "stream",
          "name": "stdout",
          "text": [
            "(100, 4)\n"
          ]
        }
      ]
    },
    {
      "cell_type": "code",
      "source": [
        "data.shape"
      ],
      "metadata": {
        "id": "KvnLB-_sJw1H",
        "outputId": "1e326c19-f51e-4fd5-abb2-43499a441458",
        "colab": {
          "base_uri": "https://localhost:8080/"
        }
      },
      "execution_count": null,
      "outputs": [
        {
          "output_type": "execute_result",
          "data": {
            "text/plain": [
              "(150, 4)"
            ]
          },
          "metadata": {},
          "execution_count": 19
        }
      ]
    },
    {
      "cell_type": "markdown",
      "source": [
        "Your implementation starts here.\n",
        "\n",
        "Do not use already available implementation of fisher discriminant from libraries like scikit-learn.\n",
        "\n",
        "You can use numpy to perform computations and matplotlib for plotting."
      ],
      "metadata": {
        "id": "YXYCB9YxW4De"
      }
    },
    {
      "cell_type": "code",
      "source": [
        "#Find the w to project the data to single dimension"
      ],
      "metadata": {
        "id": "nTkkvLlcT5Q6"
      },
      "execution_count": null,
      "outputs": []
    },
    {
      "cell_type": "code",
      "source": [
        "#Project the data and find the threshold for classification with minimum error."
      ],
      "metadata": {
        "id": "MgMgGq_4UMoY"
      },
      "execution_count": null,
      "outputs": []
    },
    {
      "cell_type": "code",
      "source": [
        "#Plot the histogram of the projected data and the classification boundary.\n",
        "#Use matplot lib for plotting.\n",
        "#while plotting histogram give different color for different classes and also add legend.\n",
        "#you can refer :- https://matplotlib.org/stable/gallery/text_labels_and_annotations/index.html"
      ],
      "metadata": {
        "id": "HEeWT3SZUHV8"
      },
      "execution_count": null,
      "outputs": []
    },
    {
      "cell_type": "markdown",
      "source": [
        "Part B: Fisher on custom Dataset"
      ],
      "metadata": {
        "id": "qvi-FELCKO-h"
      }
    },
    {
      "cell_type": "code",
      "source": [
        "#Load train Dataset\n",
        "help(AIML_A1.q3_get_data)\n",
        "data_for_fisher = AIML_A1.q3_get_data(mysrn)\n",
        "print(data_for_fisher[:5])"
      ],
      "metadata": {
        "id": "jvnhP1GeKR3B",
        "colab": {
          "base_uri": "https://localhost:8080/"
        },
        "outputId": "3bb40879-58df-489f-b0dd-9b60a2c3d045"
      },
      "execution_count": null,
      "outputs": [
        {
          "output_type": "stream",
          "name": "stdout",
          "text": [
            "Help on function q3_get_data in module oracle:\n",
            "\n",
            "q3_get_data(srn: int) -> list[tuple[numpy.ndarray, int]]\n",
            "    srn: 5 digit number.\n",
            "    \n",
            "    Help:\n",
            "    This function returns the training dataset for question 4\n",
            "    It returns a list containing all the data points.\n",
            "    Each entry of the list is a tuple of two elements;\n",
            "    the first element is the 2-dimensional data $[x_1,x_2]$,\n",
            "    and the second element is the label ($1$ or $0$).\n",
            "\n",
            "150\n"
          ]
        }
      ]
    },
    {
      "cell_type": "code",
      "source": [
        "#Find Normalized Projection vestor w and check if the data is linealrly separable."
      ],
      "metadata": {
        "id": "qNTxTekg2tFd"
      },
      "execution_count": null,
      "outputs": []
    },
    {
      "cell_type": "code",
      "source": [
        "#Transform the data to \\phi(X) as explained and find w and b"
      ],
      "metadata": {
        "id": "o8XqU54b21HR"
      },
      "execution_count": null,
      "outputs": []
    },
    {
      "cell_type": "code",
      "source": [
        "#Plot original data along with classifier boundary"
      ],
      "metadata": {
        "id": "tp3y7RmV3DR2"
      },
      "execution_count": null,
      "outputs": []
    },
    {
      "cell_type": "code",
      "source": [
        "#Load Test dataset\n",
        "help(AIML_A1.q3_get_test_data)\n",
        "test_data_for_fisher = AIML_A1.q3_get_test_data(mysrn)\n",
        "print(test_data_for_fisher[:5])"
      ],
      "metadata": {
        "id": "2LkWuYPP3Jjy",
        "colab": {
          "base_uri": "https://localhost:8080/"
        },
        "outputId": "d02829d2-5024-41be-d9a1-c6acf5ac9a2f"
      },
      "execution_count": null,
      "outputs": [
        {
          "output_type": "stream",
          "name": "stdout",
          "text": [
            "Help on function q3_get_test_data in module oracle:\n",
            "\n",
            "q3_get_test_data(srn: int) -> list[tuple[numpy.ndarray, int]]\n",
            "    srn: 5 digit number.\n",
            "    \n",
            "    Help:This function returns the test dataset for question 4\n",
            "    It returns a list containing all the data points. Each entry of the list is a tuple of two elements; \n",
            "    the first element is the 2-dimensional data $[x_1,x_2]$, and the second element is the label ($1$ or $0$).\n",
            "\n",
            "100\n"
          ]
        }
      ]
    },
    {
      "cell_type": "code",
      "source": [
        "#Find Test Accuracy for various values of thresholds as explained."
      ],
      "metadata": {
        "id": "-zaLHrKU3UnO"
      },
      "execution_count": null,
      "outputs": []
    },
    {
      "cell_type": "markdown",
      "source": [
        "#Question 4 : Logistic Regression"
      ],
      "metadata": {
        "id": "eJrDvi8eRA81"
      }
    },
    {
      "cell_type": "code",
      "source": [
        "#Loading Dataset\n",
        "import numpy as np\n",
        "import csv\n",
        "\n",
        "#Loading Data\n",
        "with open('diabetes.csv', 'r') as f:\n",
        "    reader = csv.reader(f)\n",
        "    diabetes_data = list(reader)\n",
        "diabetes_data = np.array(diabetes_data)\n",
        "\n",
        "diabetes_data =  diabetes_data[1:,]"
      ],
      "metadata": {
        "id": "1KHZutKmRFSt"
      },
      "execution_count": null,
      "outputs": []
    },
    {
      "cell_type": "code",
      "source": [
        "#Import required modules for logistic regression from scikit-learn"
      ],
      "metadata": {
        "id": "nCsNq6_4RRrt"
      },
      "execution_count": null,
      "outputs": []
    },
    {
      "cell_type": "code",
      "source": [
        "# Implement K-Fold Cross Validation K=6\n",
        "\n",
        "# Evaluate Confusion Matrix for every K Model"
      ],
      "metadata": {
        "id": "LpL0h9BeRXej"
      },
      "execution_count": null,
      "outputs": []
    },
    {
      "cell_type": "code",
      "source": [
        "# Plot barplot for all metrics using matplotlib"
      ],
      "metadata": {
        "id": "HX2LMpcORuz6"
      },
      "execution_count": null,
      "outputs": []
    },
    {
      "cell_type": "code",
      "source": [
        "# Load testdata"
      ],
      "metadata": {
        "id": "pbC5B8llR0m2"
      },
      "execution_count": null,
      "outputs": []
    },
    {
      "cell_type": "code",
      "source": [
        "#Predict testdata and save into test_result.csv\n",
        "\n",
        "\n",
        "# y_pred is name for prediction data\n",
        "np.savetxt('test_result.csv', y_pred, fmt='%s')"
      ],
      "metadata": {
        "id": "wDsduaMWR6Mb"
      },
      "execution_count": null,
      "outputs": []
    }
  ]
}